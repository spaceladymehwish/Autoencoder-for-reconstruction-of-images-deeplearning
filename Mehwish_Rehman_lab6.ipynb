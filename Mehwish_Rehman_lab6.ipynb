{
 "cells": [
  {
   "cell_type": "markdown",
   "metadata": {},
   "source": [
    "### Task#1 Read lab document carefully and create a python notebook from the given instructions ###"
   ]
  },
  {
   "cell_type": "code",
   "execution_count": 1,
   "metadata": {},
   "outputs": [
    {
     "name": "stdout",
     "output_type": "stream",
     "text": [
      "WARNING:tensorflow:From c:\\Users\\saturn\\miniconda3\\envs\\deep_learning_course\\Lib\\site-packages\\keras\\src\\losses.py:2976: The name tf.losses.sparse_softmax_cross_entropy is deprecated. Please use tf.compat.v1.losses.sparse_softmax_cross_entropy instead.\n",
      "\n"
     ]
    }
   ],
   "source": [
    "import numpy as np\n",
    "import matplotlib.pyplot as plt\n",
    "import tensorflow as tf\n",
    "from tensorflow import keras\n",
    "from keras.datasets import fashion_mnist"
   ]
  },
  {
   "cell_type": "code",
   "execution_count": 2,
   "metadata": {},
   "outputs": [
    {
     "data": {
      "text/plain": [
       "((60000, 28, 28), (10000, 28, 28))"
      ]
     },
     "execution_count": 2,
     "metadata": {},
     "output_type": "execute_result"
    }
   ],
   "source": [
    "#2D data\n",
    "(x_train, _), (x_test, _) = fashion_mnist.load_data()\n",
    "x_train = x_train / 255.0\n",
    "x_test = x_test / 255.0\n",
    "x_train.shape, x_test.shape"
   ]
  },
  {
   "cell_type": "code",
   "execution_count": 3,
   "metadata": {},
   "outputs": [
    {
     "data": {
      "text/plain": [
       "((60000, 784), (10000, 784))"
      ]
     },
     "execution_count": 3,
     "metadata": {},
     "output_type": "execute_result"
    }
   ],
   "source": [
    "#1D data to dense layer\n",
    "x_train = x_train.reshape(-1, 28*28)\n",
    "x_test = x_test.reshape(-1, 28*28)\n",
    "x_train.shape, x_test.shape"
   ]
  },
  {
   "cell_type": "code",
   "execution_count": 4,
   "metadata": {},
   "outputs": [
    {
     "data": {
      "text/plain": [
       "<matplotlib.image.AxesImage at 0x27d043e1190>"
      ]
     },
     "execution_count": 4,
     "metadata": {},
     "output_type": "execute_result"
    },
    {
     "data": {
      "image/png": "[encoded data removed]",
      "text/plain": [
       "<Figure size 640x480 with 1 Axes>"
      ]
     },
     "metadata": {},
     "output_type": "display_data"
    }
   ],
   "source": [
    "plt.imshow(x_train[0].reshape(28,28))"
   ]
  },
  {
   "cell_type": "code",
   "execution_count": 5,
   "metadata": {},
   "outputs": [
    {
     "name": "stdout",
     "output_type": "stream",
     "text": [
      "WARNING:tensorflow:From c:\\Users\\saturn\\miniconda3\\envs\\deep_learning_course\\Lib\\site-packages\\keras\\src\\backend.py:1398: The name tf.executing_eagerly_outside_functions is deprecated. Please use tf.compat.v1.executing_eagerly_outside_functions instead.\n",
      "\n"
     ]
    }
   ],
   "source": [
    "from keras.models import Model\n",
    "from keras.layers import Input, Dense\n",
    "input_dim = x_train.shape[1]\n",
    "encoding_dim = 32\n",
    "input_img = Input(shape=(input_dim,))\n",
    "encoded = Dense(encoding_dim, activation='relu')(input_img)\n",
    "decoded = Dense(input_dim, activation='sigmoid')(encoded)\n",
    "autoencoder = Model(input_img, decoded)"
   ]
  },
  {
   "cell_type": "code",
   "execution_count": 6,
   "metadata": {},
   "outputs": [
    {
     "name": "stdout",
     "output_type": "stream",
     "text": [
      "WARNING:tensorflow:From c:\\Users\\saturn\\miniconda3\\envs\\deep_learning_course\\Lib\\site-packages\\keras\\src\\optimizers\\__init__.py:309: The name tf.train.Optimizer is deprecated. Please use tf.compat.v1.train.Optimizer instead.\n",
      "\n",
      "Model: \"model\"\n",
      "_________________________________________________________________\n",
      " Layer (type)                Output Shape              Param #   \n",
      "=================================================================\n",
      " input_1 (InputLayer)        [(None, 784)]             0         \n",
      "                                                                 \n",
      " dense (Dense)               (None, 32)                25120     \n",
      "                                                                 \n",
      " dense_1 (Dense)             (None, 784)               25872     \n",
      "                                                                 \n",
      "=================================================================\n",
      "Total params: 50992 (199.19 KB)\n",
      "Trainable params: 50992 (199.19 KB)\n",
      "Non-trainable params: 0 (0.00 Byte)\n",
      "_________________________________________________________________\n"
     ]
    }
   ],
   "source": [
    "autoencoder.compile(optimizer='adam', \n",
    "loss='binary_crossentropy')\n",
    "autoencoder.summary()\n"
   ]
  },
  {
   "cell_type": "code",
   "execution_count": 7,
   "metadata": {},
   "outputs": [
    {
     "name": "stdout",
     "output_type": "stream",
     "text": [
      "Epoch 1/50\n",
      "WARNING:tensorflow:From c:\\Users\\saturn\\miniconda3\\envs\\deep_learning_course\\Lib\\site-packages\\keras\\src\\utils\\tf_utils.py:492: The name tf.ragged.RaggedTensorValue is deprecated. Please use tf.compat.v1.ragged.RaggedTensorValue instead.\n",
      "\n",
      "235/235 [==============================] - 9s 30ms/step - loss: 0.4137 - val_loss: 0.3421\n",
      "Epoch 2/50\n",
      "235/235 [==============================] - 5s 20ms/step - loss: 0.3272 - val_loss: 0.3198\n",
      "Epoch 3/50\n",
      "235/235 [==============================] - 5s 20ms/step - loss: 0.3108 - val_loss: 0.3069\n",
      "Epoch 4/50\n",
      "235/235 [==============================] - 5s 21ms/step - loss: 0.3009 - val_loss: 0.2995\n",
      "Epoch 5/50\n",
      "235/235 [==============================] - 6s 25ms/step - loss: 0.2950 - val_loss: 0.2949\n",
      "Epoch 6/50\n",
      "235/235 [==============================] - 5s 22ms/step - loss: 0.2912 - val_loss: 0.2919\n",
      "Epoch 7/50\n",
      "235/235 [==============================] - 4s 16ms/step - loss: 0.2887 - val_loss: 0.2900\n",
      "Epoch 8/50\n",
      "235/235 [==============================] - 6s 24ms/step - loss: 0.2872 - val_loss: 0.2887\n",
      "Epoch 9/50\n",
      "235/235 [==============================] - 4s 19ms/step - loss: 0.2862 - val_loss: 0.2880\n",
      "Epoch 10/50\n",
      "235/235 [==============================] - 6s 24ms/step - loss: 0.2854 - val_loss: 0.2874\n",
      "Epoch 11/50\n",
      "235/235 [==============================] - 5s 21ms/step - loss: 0.2849 - val_loss: 0.2870\n",
      "Epoch 12/50\n",
      "235/235 [==============================] - 5s 20ms/step - loss: 0.2845 - val_loss: 0.2866\n",
      "Epoch 13/50\n",
      "235/235 [==============================] - 6s 23ms/step - loss: 0.2842 - val_loss: 0.2864\n",
      "Epoch 14/50\n",
      "235/235 [==============================] - 6s 25ms/step - loss: 0.2839 - val_loss: 0.2860\n",
      "Epoch 15/50\n",
      "235/235 [==============================] - 4s 16ms/step - loss: 0.2837 - val_loss: 0.2858\n",
      "Epoch 16/50\n",
      "235/235 [==============================] - 5s 22ms/step - loss: 0.2835 - val_loss: 0.2856\n",
      "Epoch 17/50\n",
      "235/235 [==============================] - 6s 26ms/step - loss: 0.2833 - val_loss: 0.2855\n",
      "Epoch 18/50\n",
      "235/235 [==============================] - 5s 21ms/step - loss: 0.2832 - val_loss: 0.2854\n",
      "Epoch 19/50\n",
      "235/235 [==============================] - 3s 11ms/step - loss: 0.2831 - val_loss: 0.2853\n",
      "Epoch 20/50\n",
      "235/235 [==============================] - 4s 19ms/step - loss: 0.2829 - val_loss: 0.2852\n",
      "Epoch 21/50\n",
      "235/235 [==============================] - 5s 21ms/step - loss: 0.2829 - val_loss: 0.2851\n",
      "Epoch 22/50\n",
      "235/235 [==============================] - 4s 19ms/step - loss: 0.2828 - val_loss: 0.2850\n",
      "Epoch 23/50\n",
      "235/235 [==============================] - 5s 20ms/step - loss: 0.2827 - val_loss: 0.2849\n",
      "Epoch 24/50\n",
      "235/235 [==============================] - 5s 20ms/step - loss: 0.2826 - val_loss: 0.2848\n",
      "Epoch 25/50\n",
      "235/235 [==============================] - 5s 22ms/step - loss: 0.2825 - val_loss: 0.2848\n",
      "Epoch 26/50\n",
      "235/235 [==============================] - 5s 22ms/step - loss: 0.2825 - val_loss: 0.2847\n",
      "Epoch 27/50\n",
      "235/235 [==============================] - 5s 21ms/step - loss: 0.2824 - val_loss: 0.2847\n",
      "Epoch 28/50\n",
      "235/235 [==============================] - 5s 20ms/step - loss: 0.2823 - val_loss: 0.2846\n",
      "Epoch 29/50\n",
      "235/235 [==============================] - 4s 16ms/step - loss: 0.2823 - val_loss: 0.2846\n",
      "Epoch 30/50\n",
      "235/235 [==============================] - 4s 17ms/step - loss: 0.2822 - val_loss: 0.2845\n",
      "Epoch 31/50\n",
      "235/235 [==============================] - 4s 16ms/step - loss: 0.2822 - val_loss: 0.2845\n",
      "Epoch 32/50\n",
      "235/235 [==============================] - 5s 21ms/step - loss: 0.2822 - val_loss: 0.2846\n",
      "Epoch 33/50\n",
      "235/235 [==============================] - 5s 23ms/step - loss: 0.2821 - val_loss: 0.2844\n",
      "Epoch 34/50\n",
      "235/235 [==============================] - 5s 23ms/step - loss: 0.2821 - val_loss: 0.2845\n",
      "Epoch 35/50\n",
      "235/235 [==============================] - 5s 23ms/step - loss: 0.2821 - val_loss: 0.2844\n",
      "Epoch 36/50\n",
      "235/235 [==============================] - 5s 23ms/step - loss: 0.2820 - val_loss: 0.2843\n",
      "Epoch 37/50\n",
      "235/235 [==============================] - 4s 19ms/step - loss: 0.2820 - val_loss: 0.2843\n",
      "Epoch 38/50\n",
      "235/235 [==============================] - 6s 25ms/step - loss: 0.2819 - val_loss: 0.2843\n",
      "Epoch 39/50\n",
      "235/235 [==============================] - 5s 21ms/step - loss: 0.2819 - val_loss: 0.2843\n",
      "Epoch 40/50\n",
      "235/235 [==============================] - 5s 21ms/step - loss: 0.2819 - val_loss: 0.2843\n",
      "Epoch 41/50\n",
      "235/235 [==============================] - 5s 22ms/step - loss: 0.2819 - val_loss: 0.2843\n",
      "Epoch 42/50\n",
      "235/235 [==============================] - 6s 25ms/step - loss: 0.2818 - val_loss: 0.2843\n",
      "Epoch 43/50\n",
      "235/235 [==============================] - 6s 24ms/step - loss: 0.2818 - val_loss: 0.2842\n",
      "Epoch 44/50\n",
      "235/235 [==============================] - 5s 23ms/step - loss: 0.2818 - val_loss: 0.2841\n",
      "Epoch 45/50\n",
      "235/235 [==============================] - 5s 21ms/step - loss: 0.2818 - val_loss: 0.2842\n",
      "Epoch 46/50\n",
      "235/235 [==============================] - 4s 18ms/step - loss: 0.2818 - val_loss: 0.2842\n",
      "Epoch 47/50\n",
      "235/235 [==============================] - 6s 24ms/step - loss: 0.2818 - val_loss: 0.2841\n",
      "Epoch 48/50\n",
      "235/235 [==============================] - 4s 17ms/step - loss: 0.2817 - val_loss: 0.2841\n",
      "Epoch 49/50\n",
      "235/235 [==============================] - 5s 23ms/step - loss: 0.2817 - val_loss: 0.2841\n",
      "Epoch 50/50\n",
      "235/235 [==============================] - 4s 17ms/step - loss: 0.2817 - val_loss: 0.2841\n"
     ]
    }
   ],
   "source": [
    "history = autoencoder.fit(x_train, x_train,\n",
    " epochs=50,\n",
    "batch_size=256,\n",
    "shuffle=True,\n",
    "validation_data=(x_test, x_test))"
   ]
  },
  {
   "cell_type": "code",
   "execution_count": 8,
   "metadata": {},
   "outputs": [
    {
     "name": "stdout",
     "output_type": "stream",
     "text": [
      "313/313 [==============================] - 3s 8ms/step\n"
     ]
    }
   ],
   "source": [
    "reconstructed_imgs = autoencoder.predict(x_test)"
   ]
  },
  {
   "cell_type": "code",
   "execution_count": 16,
   "metadata": {},
   "outputs": [
    {
     "data": {
      "image/png": "[encoded data removed]",
      "text/plain": [
       "<Figure size 2000x400 with 20 Axes>"
      ]
     },
     "metadata": {},
     "output_type": "display_data"
    }
   ],
   "source": [
    "n = 10 # How many images to display\n",
    "plt.figure(figsize=(20, 4))\n",
    "for i in range(n):\n",
    " # Display original images\n",
    " ax = plt.subplot(2, n, i + 1)\n",
    " plt.imshow(x_test[i].reshape(28, 28))\n",
    " plt.gray()\n",
    " ax.get_xaxis().set_visible(False)\n",
    " ax.get_yaxis().set_visible(False)\n",
    " # Display reconstructed images\n",
    " ax = plt.subplot(2, n, i + 1 + n)\n",
    " plt.imshow(reconstructed_imgs[i].reshape(28, 28))\n",
    " plt.gray()\n",
    " ax.get_xaxis().set_visible(False)\n",
    " ax.get_yaxis().set_visible(False)\n",
    "plt.show()\n"
   ]
  },
  {
   "cell_type": "markdown",
   "metadata": {},
   "source": [
    "### Task #2 Design an autoencoder architecture with three dense layers in the encoder and decoder block for the Fashion MNIST dataset. These dense layers will have decreasing number of neurons starting from 128, 64, and 32 in encoder block and an increasing number of neurons from 32, 64 to 128 in the decoder block to match dimensions as input data ###"
   ]
  },
  {
   "cell_type": "code",
   "execution_count": 11,
   "metadata": {},
   "outputs": [],
   "source": [
    "import numpy as np\n",
    "import matplotlib.pyplot as plt\n",
    "import tensorflow as tf\n",
    "from tensorflow import keras\n",
    "from keras.datasets import fashion_mnist"
   ]
  },
  {
   "cell_type": "code",
   "execution_count": 12,
   "metadata": {},
   "outputs": [
    {
     "data": {
      "text/plain": [
       "((60000, 28, 28), (10000, 28, 28))"
      ]
     },
     "execution_count": 12,
     "metadata": {},
     "output_type": "execute_result"
    }
   ],
   "source": [
    "(x_train, _), (x_test, _) = fashion_mnist.load_data()\n",
    "x_train = x_train / 255.0\n",
    "x_test = x_test / 255.0\n",
    "x_train.shape, x_test.shape\n"
   ]
  },
  {
   "cell_type": "code",
   "execution_count": 13,
   "metadata": {},
   "outputs": [
    {
     "data": {
      "text/plain": [
       "((60000, 784), (10000, 784))"
      ]
     },
     "execution_count": 13,
     "metadata": {},
     "output_type": "execute_result"
    }
   ],
   "source": [
    "x_train = x_train.reshape(-1, 28*28)\n",
    "x_test = x_test.reshape(-1, 28*28)\n",
    "x_train.shape, x_test.shape\n"
   ]
  },
  {
   "cell_type": "code",
   "execution_count": null,
   "metadata": {},
   "outputs": [],
   "source": [
    "plt.imshow(x_train[0].reshape(28,28))\n"
   ]
  },
  {
   "cell_type": "code",
   "execution_count": 19,
   "metadata": {},
   "outputs": [],
   "source": [
    "from keras.models import Model\n",
    "from keras.layers import Input, Dense\n",
    "input_dim = x_train.shape[1]\n",
    "encoding_dim = 32\n",
    "input_img = Input(shape=(input_dim,))\n",
    "encoded = Dense(128, activation='relu')(input_img)\n",
    "encoded = Dense(64, activation='relu')(encoded)\n",
    "encoded = Dense(encoding_dim, activation='relu')(encoded)\n",
    "decoded = Dense(64, activation='relu')(encoded)\n",
    "decoded = Dense(128, activation='relu')(decoded)\n",
    "decoded = Dense(input_dim, activation='sigmoid')(decoded)\n",
    "autoencoder = Model(input_img, decoded)\n"
   ]
  },
  {
   "cell_type": "code",
   "execution_count": 20,
   "metadata": {},
   "outputs": [
    {
     "name": "stdout",
     "output_type": "stream",
     "text": [
      "Model: \"model_2\"\n",
      "_________________________________________________________________\n",
      " Layer (type)                Output Shape              Param #   \n",
      "=================================================================\n",
      " input_3 (InputLayer)        [(None, 784)]             0         \n",
      "                                                                 \n",
      " dense_4 (Dense)             (None, 128)               100480    \n",
      "                                                                 \n",
      " dense_5 (Dense)             (None, 64)                8256      \n",
      "                                                                 \n",
      " dense_6 (Dense)             (None, 32)                2080      \n",
      "                                                                 \n",
      " dense_7 (Dense)             (None, 64)                2112      \n",
      "                                                                 \n",
      " dense_8 (Dense)             (None, 128)               8320      \n"
     ]
    },
    {
     "name": "stdout",
     "output_type": "stream",
     "text": [
      "                                                                 \n",
      " dense_9 (Dense)             (None, 784)               101136    \n",
      "                                                                 \n",
      "=================================================================\n",
      "Total params: 222384 (868.69 KB)\n",
      "Trainable params: 222384 (868.69 KB)\n",
      "Non-trainable params: 0 (0.00 Byte)\n",
      "_________________________________________________________________\n"
     ]
    }
   ],
   "source": [
    "autoencoder.compile(optimizer='adam', \n",
    "loss='binary_crossentropy')\n",
    "autoencoder.summary()\n"
   ]
  },
  {
   "cell_type": "code",
   "execution_count": 21,
   "metadata": {},
   "outputs": [
    {
     "name": "stdout",
     "output_type": "stream",
     "text": [
      "Epoch 1/50\n",
      "235/235 [==============================] - 12s 39ms/step - loss: 0.3775 - val_loss: 0.3179\n",
      "Epoch 2/50\n",
      "235/235 [==============================] - 7s 30ms/step - loss: 0.3102 - val_loss: 0.3077\n",
      "Epoch 3/50\n",
      "235/235 [==============================] - 8s 33ms/step - loss: 0.3021 - val_loss: 0.3023\n",
      "Epoch 4/50\n",
      "235/235 [==============================] - 9s 37ms/step - loss: 0.2977 - val_loss: 0.2979\n",
      "Epoch 5/50\n",
      "235/235 [==============================] - 8s 35ms/step - loss: 0.2947 - val_loss: 0.2953\n",
      "Epoch 6/50\n",
      "235/235 [==============================] - 8s 34ms/step - loss: 0.2921 - val_loss: 0.2950\n",
      "Epoch 7/50\n",
      "235/235 [==============================] - 7s 29ms/step - loss: 0.2903 - val_loss: 0.2913\n",
      "Epoch 8/50\n",
      "235/235 [==============================] - 8s 33ms/step - loss: 0.2885 - val_loss: 0.2902\n",
      "Epoch 9/50\n",
      "235/235 [==============================] - 7s 31ms/step - loss: 0.2871 - val_loss: 0.2889\n",
      "Epoch 10/50\n",
      "235/235 [==============================] - 6s 27ms/step - loss: 0.2859 - val_loss: 0.2875\n",
      "Epoch 11/50\n",
      "235/235 [==============================] - 8s 36ms/step - loss: 0.2849 - val_loss: 0.2866\n",
      "Epoch 12/50\n",
      "235/235 [==============================] - 7s 31ms/step - loss: 0.2840 - val_loss: 0.2857\n",
      "Epoch 13/50\n",
      "235/235 [==============================] - 7s 29ms/step - loss: 0.2832 - val_loss: 0.2851\n",
      "Epoch 14/50\n",
      "235/235 [==============================] - 8s 34ms/step - loss: 0.2825 - val_loss: 0.2851\n",
      "Epoch 15/50\n",
      "235/235 [==============================] - 8s 34ms/step - loss: 0.2819 - val_loss: 0.2837\n",
      "Epoch 16/50\n",
      "235/235 [==============================] - 7s 31ms/step - loss: 0.2812 - val_loss: 0.2832\n",
      "Epoch 17/50\n",
      "235/235 [==============================] - 7s 32ms/step - loss: 0.2808 - val_loss: 0.2829\n",
      "Epoch 18/50\n",
      "235/235 [==============================] - 8s 34ms/step - loss: 0.2804 - val_loss: 0.2826\n",
      "Epoch 19/50\n",
      "235/235 [==============================] - 7s 30ms/step - loss: 0.2799 - val_loss: 0.2821\n",
      "Epoch 20/50\n",
      "235/235 [==============================] - 7s 30ms/step - loss: 0.2796 - val_loss: 0.2819\n",
      "Epoch 21/50\n",
      "235/235 [==============================] - 8s 32ms/step - loss: 0.2793 - val_loss: 0.2815\n",
      "Epoch 22/50\n",
      "235/235 [==============================] - 8s 33ms/step - loss: 0.2789 - val_loss: 0.2810\n",
      "Epoch 23/50\n",
      "235/235 [==============================] - 7s 30ms/step - loss: 0.2786 - val_loss: 0.2818\n",
      "Epoch 24/50\n",
      "235/235 [==============================] - 8s 34ms/step - loss: 0.2783 - val_loss: 0.2806\n",
      "Epoch 25/50\n",
      "235/235 [==============================] - 7s 29ms/step - loss: 0.2779 - val_loss: 0.2801\n",
      "Epoch 26/50\n",
      "235/235 [==============================] - 7s 31ms/step - loss: 0.2777 - val_loss: 0.2799\n",
      "Epoch 27/50\n",
      "235/235 [==============================] - 8s 32ms/step - loss: 0.2774 - val_loss: 0.2795\n",
      "Epoch 28/50\n",
      "235/235 [==============================] - 8s 33ms/step - loss: 0.2771 - val_loss: 0.2801\n",
      "Epoch 29/50\n",
      "235/235 [==============================] - 7s 28ms/step - loss: 0.2769 - val_loss: 0.2794\n",
      "Epoch 30/50\n",
      "235/235 [==============================] - 7s 31ms/step - loss: 0.2766 - val_loss: 0.2790\n",
      "Epoch 31/50\n",
      "235/235 [==============================] - 8s 36ms/step - loss: 0.2764 - val_loss: 0.2789\n",
      "Epoch 32/50\n",
      "235/235 [==============================] - 7s 31ms/step - loss: 0.2762 - val_loss: 0.2790\n",
      "Epoch 33/50\n",
      "235/235 [==============================] - 8s 33ms/step - loss: 0.2761 - val_loss: 0.2785\n",
      "Epoch 34/50\n",
      "235/235 [==============================] - 7s 29ms/step - loss: 0.2758 - val_loss: 0.2781\n",
      "Epoch 35/50\n",
      "235/235 [==============================] - 7s 28ms/step - loss: 0.2757 - val_loss: 0.2783\n",
      "Epoch 36/50\n",
      "235/235 [==============================] - 6s 27ms/step - loss: 0.2755 - val_loss: 0.2780\n",
      "Epoch 37/50\n",
      "235/235 [==============================] - 5s 23ms/step - loss: 0.2753 - val_loss: 0.2780\n",
      "Epoch 38/50\n",
      "235/235 [==============================] - 6s 25ms/step - loss: 0.2751 - val_loss: 0.2775\n",
      "Epoch 39/50\n",
      "235/235 [==============================] - 6s 27ms/step - loss: 0.2750 - val_loss: 0.2775\n",
      "Epoch 40/50\n",
      "235/235 [==============================] - 6s 27ms/step - loss: 0.2749 - val_loss: 0.2773\n",
      "Epoch 41/50\n",
      "235/235 [==============================] - 7s 30ms/step - loss: 0.2747 - val_loss: 0.2772\n",
      "Epoch 42/50\n",
      "235/235 [==============================] - 7s 29ms/step - loss: 0.2746 - val_loss: 0.2768\n",
      "Epoch 43/50\n",
      "235/235 [==============================] - 7s 31ms/step - loss: 0.2745 - val_loss: 0.2768\n",
      "Epoch 44/50\n",
      "235/235 [==============================] - 7s 30ms/step - loss: 0.2743 - val_loss: 0.2768\n",
      "Epoch 45/50\n",
      "235/235 [==============================] - 7s 29ms/step - loss: 0.2741 - val_loss: 0.2769\n",
      "Epoch 46/50\n",
      "235/235 [==============================] - 7s 30ms/step - loss: 0.2740 - val_loss: 0.2764\n",
      "Epoch 47/50\n",
      "235/235 [==============================] - 5s 22ms/step - loss: 0.2739 - val_loss: 0.2766\n",
      "Epoch 48/50\n",
      "235/235 [==============================] - 7s 31ms/step - loss: 0.2738 - val_loss: 0.2767\n",
      "Epoch 49/50\n",
      "235/235 [==============================] - 6s 24ms/step - loss: 0.2737 - val_loss: 0.2768\n",
      "Epoch 50/50\n",
      "235/235 [==============================] - 7s 31ms/step - loss: 0.2736 - val_loss: 0.2763\n"
     ]
    }
   ],
   "source": [
    "history = autoencoder.fit(x_train, x_train,\n",
    " epochs=50,\n",
    "batch_size=256,\n",
    "shuffle=True,\n",
    "validation_data=(x_test, x_test))"
   ]
  },
  {
   "cell_type": "code",
   "execution_count": 22,
   "metadata": {},
   "outputs": [
    {
     "name": "stdout",
     "output_type": "stream",
     "text": [
      "313/313 [==============================] - 2s 5ms/step\n"
     ]
    }
   ],
   "source": [
    "reconstructed_imgs = autoencoder.predict(x_test)\n"
   ]
  },
  {
   "cell_type": "code",
   "execution_count": 24,
   "metadata": {},
   "outputs": [
    {
     "data": {
      "image/png": "[encoded data removed]",
      "text/plain": [
       "<Figure size 2000x400 with 20 Axes>"
      ]
     },
     "metadata": {},
     "output_type": "display_data"
    }
   ],
   "source": [
    "n = 10 # How many images to display\n",
    "plt.figure(figsize=(20, 4))\n",
    "for i in range(n):\n",
    " # Display original images\n",
    " ax = plt.subplot(2, n, i + 1)\n",
    " plt.imshow(x_test[i].reshape(28, 28))\n",
    " plt.gray()\n",
    " ax.get_xaxis().set_visible(False)\n",
    " ax.get_yaxis().set_visible(False)\n",
    " # Display reconstructed images\n",
    " ax = plt.subplot(2, n, i + 1 + n)\n",
    " plt.imshow(reconstructed_imgs[i].reshape(28, 28))\n",
    " plt.gray()\n",
    " ax.get_xaxis().set_visible(False)\n",
    " ax.get_yaxis().set_visible(False)\n",
    "plt.show()"
   ]
  },
  {
   "cell_type": "markdown",
   "metadata": {},
   "source": [
    "### Task 3. Design a shallow and deep autoencoder architecture for MNIST handwritten digits and compare the performance of both the models ### "
   ]
  },
  {
   "cell_type": "code",
   "execution_count": 25,
   "metadata": {},
   "outputs": [],
   "source": [
    "import numpy as np\n",
    "import matplotlib.pyplot as plt\n",
    "import tensorflow as tf\n",
    "from tensorflow import keras\n",
    "from keras.datasets import mnist"
   ]
  },
  {
   "cell_type": "code",
   "execution_count": 26,
   "metadata": {},
   "outputs": [
    {
     "data": {
      "text/plain": [
       "((60000, 28, 28), (10000, 28, 28))"
      ]
     },
     "execution_count": 26,
     "metadata": {},
     "output_type": "execute_result"
    }
   ],
   "source": [
    "(x_train, _), (x_test, _) = mnist.load_data()\n",
    "x_train = x_train / 255.0\n",
    "x_test = x_test / 255.0\n",
    "x_train.shape, x_test.shape"
   ]
  },
  {
   "cell_type": "code",
   "execution_count": 27,
   "metadata": {},
   "outputs": [
    {
     "data": {
      "text/plain": [
       "((60000, 784), (10000, 784))"
      ]
     },
     "execution_count": 27,
     "metadata": {},
     "output_type": "execute_result"
    }
   ],
   "source": [
    "x_train = x_train.reshape(-1, 28*28)\n",
    "x_test = x_test.reshape(-1, 28*28)\n",
    "x_train.shape, x_test.shape"
   ]
  },
  {
   "cell_type": "code",
   "execution_count": 28,
   "metadata": {},
   "outputs": [
    {
     "data": {
      "text/plain": [
       "<matplotlib.image.AxesImage at 0x27d281abcd0>"
      ]
     },
     "execution_count": 28,
     "metadata": {},
     "output_type": "execute_result"
    },
    {
     "data": {
      "image/png": "[encoded data removed]",
      "text/plain": [
       "<Figure size 640x480 with 1 Axes>"
      ]
     },
     "metadata": {},
     "output_type": "display_data"
    }
   ],
   "source": [
    "plt.imshow(x_train[0].reshape(28,28))"
   ]
  },
  {
   "cell_type": "code",
   "execution_count": 29,
   "metadata": {},
   "outputs": [],
   "source": [
    "from keras.models import Model\n",
    "from keras.layers import Input, Dense\n",
    "input_dim = x_train.shape[1]\n",
    "encoding_dim = 32\n",
    "input_img = Input(shape=(input_dim,))\n",
    "encoded = Dense(128, activation='relu')(input_img)\n",
    "encoded = Dense(64, activation='relu')(encoded)\n",
    "encoded = Dense(encoding_dim, activation='relu')(encoded)\n",
    "decoded = Dense(64, activation='relu')(encoded)\n",
    "decoded = Dense(128, activation='relu')(decoded)\n",
    "decoded = Dense(input_dim, activation='sigmoid')(decoded)\n",
    "autoencoder = Model(input_img, decoded)"
   ]
  },
  {
   "cell_type": "code",
   "execution_count": 30,
   "metadata": {},
   "outputs": [
    {
     "name": "stdout",
     "output_type": "stream",
     "text": [
      "Model: \"model_3\"\n",
      "_________________________________________________________________\n",
      " Layer (type)                Output Shape              Param #   \n",
      "=================================================================\n",
      " input_4 (InputLayer)        [(None, 784)]             0         \n",
      "                                                                 \n",
      " dense_10 (Dense)            (None, 128)               100480    \n",
      "                                                                 \n",
      " dense_11 (Dense)            (None, 64)                8256      \n",
      "                                                                 \n",
      " dense_12 (Dense)            (None, 32)                2080      \n",
      "                                                                 \n",
      " dense_13 (Dense)            (None, 64)                2112      \n",
      "                                                                 \n",
      " dense_14 (Dense)            (None, 128)               8320      \n",
      "                                                                 \n",
      " dense_15 (Dense)            (None, 784)               101136    \n",
      "                                                                 \n",
      "=================================================================\n",
      "Total params: 222384 (868.69 KB)\n",
      "Trainable params: 222384 (868.69 KB)\n",
      "Non-trainable params: 0 (0.00 Byte)\n",
      "_________________________________________________________________\n"
     ]
    }
   ],
   "source": [
    "autoencoder.compile(optimizer='adam', \n",
    "loss='binary_crossentropy')\n",
    "autoencoder.summary()\n"
   ]
  },
  {
   "cell_type": "code",
   "execution_count": 31,
   "metadata": {},
   "outputs": [
    {
     "name": "stdout",
     "output_type": "stream",
     "text": [
      "Epoch 1/50\n",
      "235/235 [==============================] - 13s 37ms/step - loss: 0.2376 - val_loss: 0.1622\n",
      "Epoch 2/50\n",
      "235/235 [==============================] - 8s 36ms/step - loss: 0.1461 - val_loss: 0.1342\n",
      "Epoch 3/50\n",
      "235/235 [==============================] - 7s 30ms/step - loss: 0.1298 - val_loss: 0.1240\n",
      "Epoch 4/50\n",
      "235/235 [==============================] - 8s 32ms/step - loss: 0.1222 - val_loss: 0.1176\n",
      "Epoch 5/50\n",
      "235/235 [==============================] - 8s 33ms/step - loss: 0.1159 - val_loss: 0.1111\n",
      "Epoch 6/50\n",
      "235/235 [==============================] - 8s 34ms/step - loss: 0.1100 - val_loss: 0.1063\n",
      "Epoch 7/50\n",
      "235/235 [==============================] - 7s 31ms/step - loss: 0.1064 - val_loss: 0.1038\n",
      "Epoch 8/50\n",
      "235/235 [==============================] - 5s 22ms/step - loss: 0.1041 - val_loss: 0.1019\n",
      "Epoch 9/50\n",
      "235/235 [==============================] - 6s 26ms/step - loss: 0.1024 - val_loss: 0.1003\n",
      "Epoch 10/50\n",
      "235/235 [==============================] - 6s 27ms/step - loss: 0.1008 - val_loss: 0.0987\n",
      "Epoch 11/50\n",
      "235/235 [==============================] - 7s 30ms/step - loss: 0.0993 - val_loss: 0.0978\n",
      "Epoch 12/50\n",
      "235/235 [==============================] - 7s 29ms/step - loss: 0.0980 - val_loss: 0.0971\n",
      "Epoch 13/50\n",
      "235/235 [==============================] - 7s 31ms/step - loss: 0.0968 - val_loss: 0.0956\n",
      "Epoch 14/50\n",
      "235/235 [==============================] - 8s 34ms/step - loss: 0.0958 - val_loss: 0.0942\n",
      "Epoch 15/50\n",
      "235/235 [==============================] - 7s 30ms/step - loss: 0.0948 - val_loss: 0.0935\n",
      "Epoch 16/50\n",
      "235/235 [==============================] - 7s 31ms/step - loss: 0.0941 - val_loss: 0.0937\n",
      "Epoch 17/50\n",
      "235/235 [==============================] - 6s 28ms/step - loss: 0.0932 - val_loss: 0.0920\n",
      "Epoch 18/50\n",
      "235/235 [==============================] - 8s 32ms/step - loss: 0.0925 - val_loss: 0.0914\n",
      "Epoch 19/50\n",
      "235/235 [==============================] - 6s 25ms/step - loss: 0.0919 - val_loss: 0.0909\n",
      "Epoch 20/50\n",
      "235/235 [==============================] - 8s 33ms/step - loss: 0.0913 - val_loss: 0.0905\n",
      "Epoch 21/50\n",
      "235/235 [==============================] - 8s 32ms/step - loss: 0.0909 - val_loss: 0.0898\n",
      "Epoch 22/50\n",
      "235/235 [==============================] - 8s 36ms/step - loss: 0.0905 - val_loss: 0.0898\n",
      "Epoch 23/50\n",
      "235/235 [==============================] - 9s 38ms/step - loss: 0.0901 - val_loss: 0.0893\n",
      "Epoch 24/50\n",
      "235/235 [==============================] - 7s 30ms/step - loss: 0.0897 - val_loss: 0.0891\n",
      "Epoch 25/50\n",
      "235/235 [==============================] - 5s 23ms/step - loss: 0.0893 - val_loss: 0.0885\n",
      "Epoch 26/50\n",
      "235/235 [==============================] - 5s 19ms/step - loss: 0.0890 - val_loss: 0.0881\n",
      "Epoch 27/50\n",
      "235/235 [==============================] - 5s 23ms/step - loss: 0.0886 - val_loss: 0.0878\n",
      "Epoch 28/50\n",
      "235/235 [==============================] - 5s 22ms/step - loss: 0.0883 - val_loss: 0.0882\n",
      "Epoch 29/50\n",
      "235/235 [==============================] - 6s 25ms/step - loss: 0.0880 - val_loss: 0.0871\n",
      "Epoch 30/50\n",
      "235/235 [==============================] - 7s 29ms/step - loss: 0.0877 - val_loss: 0.0870\n",
      "Epoch 31/50\n",
      "235/235 [==============================] - 6s 25ms/step - loss: 0.0874 - val_loss: 0.0868\n",
      "Epoch 32/50\n",
      "235/235 [==============================] - 6s 25ms/step - loss: 0.0871 - val_loss: 0.0865\n",
      "Epoch 33/50\n",
      "235/235 [==============================] - 6s 25ms/step - loss: 0.0868 - val_loss: 0.0862\n",
      "Epoch 34/50\n",
      "235/235 [==============================] - 7s 28ms/step - loss: 0.0866 - val_loss: 0.0858\n",
      "Epoch 35/50\n",
      "235/235 [==============================] - 6s 27ms/step - loss: 0.0863 - val_loss: 0.0857\n",
      "Epoch 36/50\n",
      "235/235 [==============================] - 6s 24ms/step - loss: 0.0862 - val_loss: 0.0857\n",
      "Epoch 37/50\n",
      "235/235 [==============================] - 7s 30ms/step - loss: 0.0859 - val_loss: 0.0855\n",
      "Epoch 38/50\n",
      "235/235 [==============================] - 6s 23ms/step - loss: 0.0858 - val_loss: 0.0852\n",
      "Epoch 39/50\n",
      "235/235 [==============================] - 7s 29ms/step - loss: 0.0856 - val_loss: 0.0852\n",
      "Epoch 40/50\n",
      "235/235 [==============================] - 8s 33ms/step - loss: 0.0855 - val_loss: 0.0848\n",
      "Epoch 41/50\n",
      "235/235 [==============================] - 7s 29ms/step - loss: 0.0854 - val_loss: 0.0848\n",
      "Epoch 42/50\n",
      "235/235 [==============================] - 8s 33ms/step - loss: 0.0852 - val_loss: 0.0846\n",
      "Epoch 43/50\n",
      "235/235 [==============================] - 8s 32ms/step - loss: 0.0851 - val_loss: 0.0844\n",
      "Epoch 44/50\n",
      "235/235 [==============================] - 7s 29ms/step - loss: 0.0849 - val_loss: 0.0848\n",
      "Epoch 45/50\n",
      "235/235 [==============================] - 7s 31ms/step - loss: 0.0848 - val_loss: 0.0843\n",
      "Epoch 46/50\n",
      "235/235 [==============================] - 8s 33ms/step - loss: 0.0847 - val_loss: 0.0844\n",
      "Epoch 47/50\n",
      "235/235 [==============================] - 7s 32ms/step - loss: 0.0846 - val_loss: 0.0842\n",
      "Epoch 48/50\n",
      "235/235 [==============================] - 7s 31ms/step - loss: 0.0845 - val_loss: 0.0841\n",
      "Epoch 49/50\n",
      "235/235 [==============================] - 8s 32ms/step - loss: 0.0844 - val_loss: 0.0839\n",
      "Epoch 50/50\n",
      "235/235 [==============================] - 7s 30ms/step - loss: 0.0843 - val_loss: 0.0837\n"
     ]
    }
   ],
   "source": [
    "history = autoencoder.fit(x_train, x_train,\n",
    "epochs=50,\n",
    "batch_size=256,\n",
    "shuffle=True,\n",
    "validation_data=(x_test, x_test))"
   ]
  },
  {
   "cell_type": "code",
   "execution_count": 32,
   "metadata": {},
   "outputs": [
    {
     "name": "stdout",
     "output_type": "stream",
     "text": [
      "313/313 [==============================] - 3s 10ms/step\n"
     ]
    }
   ],
   "source": [
    "reconstructed_imgs = autoencoder.predict(x_test)"
   ]
  },
  {
   "cell_type": "code",
   "execution_count": 33,
   "metadata": {},
   "outputs": [
    {
     "data": {
      "image/png": "[encoded data removed]",
      "text/plain": [
       "<Figure size 2000x400 with 20 Axes>"
      ]
     },
     "metadata": {},
     "output_type": "display_data"
    }
   ],
   "source": [
    "n = 10 # How many images to display\n",
    "plt.figure(figsize=(20, 4))\n",
    "for i in range(n):\n",
    " # Display original images\n",
    " ax = plt.subplot(2, n, i + 1)\n",
    " plt.imshow(x_test[i].reshape(28, 28))\n",
    " plt.gray()\n",
    " ax.get_xaxis().set_visible(False)\n",
    " ax.get_yaxis().set_visible(False)\n",
    " # Display reconstructed images\n",
    " ax = plt.subplot(2, n, i + 1 + n)\n",
    " plt.imshow(reconstructed_imgs[i].reshape(28, 28))\n",
    " plt.gray()\n",
    " ax.get_xaxis().set_visible(False)\n",
    " ax.get_yaxis().set_visible(False)\n",
    "plt.show()"
   ]
  }
 ],
 "metadata": {
  "kernelspec": {
   "display_name": "deep_learning_course",
   "language": "python",
   "name": "python3"
  },
  "language_info": {
   "codemirror_mode": {
    "name": "ipython",
    "version": 3
   },
   "file_extension": ".py",
   "mimetype": "text/x-python",
   "name": "python",
   "nbconvert_exporter": "python",
   "pygments_lexer": "ipython3",
   "version": "3.11.7"
  }
 },
 "nbformat": 4,
 "nbformat_minor": 2
}
